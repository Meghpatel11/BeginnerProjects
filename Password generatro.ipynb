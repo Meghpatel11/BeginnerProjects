{
 "cells": [
  {
   "cell_type": "markdown",
   "metadata": {},
   "source": [
    "# Roll the Dice!!"
   ]
  },
  {
   "cell_type": "code",
   "execution_count": 1,
   "metadata": {},
   "outputs": [
    {
     "name": "stdout",
     "output_type": "stream",
     "text": [
      "Rolling the dice...\n",
      "values are...\n",
      "4\n",
      "2\n",
      "Roll dice again?yes\n",
      "Rolling the dice...\n",
      "values are...\n",
      "5\n",
      "5\n",
      "Roll dice again?yes\n",
      "Rolling the dice...\n",
      "values are...\n",
      "1\n",
      "2\n",
      "Roll dice again?no\n"
     ]
    }
   ],
   "source": [
    "import random\n",
    "min=1\n",
    "max=6\n",
    "\n",
    "roll_again = \"yes\"\n",
    "\n",
    "while roll_again == \"yes\":\n",
    "    print(\"Rolling the dice...\")\n",
    "    print(\"values are...\")\n",
    "    print(random.randint(min,max))\n",
    "    print(random.randint(min,max))\n",
    "    \n",
    "    roll_again = input(\"Roll dice again?\")\n",
    "    "
   ]
  },
  {
   "cell_type": "markdown",
   "metadata": {},
   "source": [
    "# Guessing game"
   ]
  },
  {
   "cell_type": "code",
   "execution_count": 4,
   "metadata": {},
   "outputs": [
    {
     "name": "stdout",
     "output_type": "stream",
     "text": [
      "Hello!! Enter your name: ACE.PY\n",
      "I am guessing the num between 1-50: ACE.PY\n",
      "Enter the num: 25\n",
      "Your guess is too high\n",
      "Enter the num: 12\n",
      "Your guess is too high\n",
      "Enter the num: 6\n",
      "Your guess is too low\n",
      "Enter the num: 10\n",
      "Your guess is corect!!\n"
     ]
    }
   ],
   "source": [
    "import random\n",
    "num = random.randint(1,50) #num to guess\n",
    "\n",
    "num_of_guesses = 0\n",
    "\n",
    "player_name = input(\"Hello!! Enter your name: \")\n",
    "print(\"I am guessing the num between 1-50: \" + player_name)\n",
    "\n",
    "while num_of_guesses < 5:\n",
    "    guess = int(input(\"Enter the num: \"))\n",
    "    num_of_guesses += 1\n",
    "    \n",
    "    if guess > num:\n",
    "        print(\"Your guess is too high\")\n",
    "    if guess < num:\n",
    "        print(\"Your guess is too low\")\n",
    "    if guess == num:\n",
    "        break\n",
    "        \n",
    "if guess == num:\n",
    "    print(\"Your guess is corect!!\")\n",
    "else:\n",
    "    print(\"Game over\")"
   ]
  },
  {
   "cell_type": "markdown",
   "metadata": {},
   "source": [
    "# Rock Paper Scissor"
   ]
  },
  {
   "cell_type": "code",
   "execution_count": 1,
   "metadata": {},
   "outputs": [
    {
     "name": "stdout",
     "output_type": "stream",
     "text": [
      "Opt rock paper scissors:  rock\n",
      "You lose paper covers rock\n"
     ]
    }
   ],
   "source": [
    "import random\n",
    "\n",
    "x = [\"rock\",\"paper\",\"scissors\"] #options\n",
    "\n",
    "computer = x[random.randint(0,2)] #computer opt\n",
    "\n",
    "player = input(\"Opt rock paper scissors:  \")\n",
    "\n",
    "while True:\n",
    "    if player == computer:\n",
    "        print(\"Game Tie!!!\")\n",
    "        \n",
    "    elif player == \"rock\":\n",
    "        if computer == \"paper\":\n",
    "            print(\"You lose\", computer, \"covers\", player)\n",
    "        else:\n",
    "            print(\"You Win!!!\", player, \"smashes\", computer)\n",
    "    elif player == \"paper\":\n",
    "        if computer == \"scissers\":\n",
    "            print(\"You lose\", computer, \"cut\", player)\n",
    "        else:\n",
    "            print(\"You Win!!!\", player, \"covers\", computer)\n",
    "    elif player == \"scissers\":\n",
    "        if computer == \"rock\":\n",
    "            print(\"You lose\", computer, \"smashes\", player)\n",
    "        else:\n",
    "            print(\"You Win!!!\", player, \"cut\", computer)\n",
    "    break"
   ]
  },
  {
   "cell_type": "code",
   "execution_count": null,
   "metadata": {},
   "outputs": [],
   "source": []
  },
  {
   "cell_type": "code",
   "execution_count": null,
   "metadata": {},
   "outputs": [],
   "source": []
  }
 ],
 "metadata": {
  "kernelspec": {
   "display_name": "Python 3",
   "language": "python",
   "name": "python3"
  },
  "language_info": {
   "codemirror_mode": {
    "name": "ipython",
    "version": 3
   },
   "file_extension": ".py",
   "mimetype": "text/x-python",
   "name": "python",
   "nbconvert_exporter": "python",
   "pygments_lexer": "ipython3",
   "version": "3.8.3"
  }
 },
 "nbformat": 4,
 "nbformat_minor": 2
}
